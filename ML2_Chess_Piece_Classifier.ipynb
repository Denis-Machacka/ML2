{
  "cells": [
    {
      "cell_type": "markdown",
      "metadata": {
        "id": "view-in-github",
        "colab_type": "text"
      },
      "source": [
        "<a href=\"https://colab.research.google.com/github/Denis-Machacka/ML2/blob/main/ML2_Chess_Piece_Classifier.ipynb\" target=\"_parent\"><img src=\"https://colab.research.google.com/assets/colab-badge.svg\" alt=\"Open In Colab\"/></a>"
      ]
    },
    {
      "cell_type": "markdown",
      "metadata": {
        "id": "oxQK6n7oQzax"
      },
      "source": [
        "# Chess Piece Classification Project"
      ]
    },
    {
      "cell_type": "markdown",
      "metadata": {
        "id": "6K_r0PKaRIs9"
      },
      "source": [
        "## **1. Project Goal/Motivation**"
      ]
    },
    {
      "cell_type": "markdown",
      "metadata": {
        "id": "xJLUc_wcRKtF"
      },
      "source": [
        "### Motivation"
      ]
    },
    {
      "cell_type": "markdown",
      "metadata": {
        "id": "qmgNTPUxRPK_"
      },
      "source": [
        "Chess, with its deep strategic complexity and rich history, continues to captivate millions of players worldwide. The ability to accurately recognize and classify chess pieces from images is a challenging computer vision task that has significant potential to enhance various aspects of the game. By developing a robust model for this purpose, we can facilitate the creation of digital archives, improve the accessibility of chess training tools, and support the development of intelligent systems capable of analyzing chess positions. This project aims to leverage modern machine learning techniques to contribute to these advancements, ultimately making the game more engaging and accessible to a broader audience."
      ]
    },
    {
      "cell_type": "markdown",
      "metadata": {
        "id": "m-EZfjhHRSHE"
      },
      "source": [
        "### Project Relevance"
      ]
    },
    {
      "cell_type": "markdown",
      "metadata": {
        "id": "XQMxsLNPRbTM"
      },
      "source": [
        "This project is relevant for anyone interested in computer vision applications in games, specifically chess. It can be useful for building tools that assist in game analysis, training, and archiving chess games. Practical applications of this project include the ability to digitize chess games, making it easier to record and share them digitally. It can also help create advanced training tools for players to analyze their games and improve their strategies. Additionally, AI analysis of chess games can provide deeper insights and recommendations, enhancing the overall learning experience for players. Such a model could also be integrated into educational platforms to help new players learn the game by automatically identifying and explaining different pieces and moves."
      ]
    },
    {
      "cell_type": "markdown",
      "metadata": {
        "id": "_eSD-OqMReqm"
      },
      "source": [
        "## **2. Data Collection or Generation**"
      ]
    },
    {
      "cell_type": "markdown",
      "metadata": {
        "id": "Pi5y1uHYRhok"
      },
      "source": [
        "### Data Description"
      ]
    },
    {
      "cell_type": "markdown",
      "metadata": {
        "id": "caOcfe10RiZG"
      },
      "source": [
        "The dataset used for this project primarily consists of images from a publicly available source on Kaggle: [Chess Pieces Detection Images Dataset](https://www.kaggle.com/datasets/anshulmehtakaggl/chess-pieces-detection-images-dataset). This dataset provides a variety of images for different chess pieces but lacked images of the King. To address this gap, additional images of the King were manually collected and converted to the .jpg format to ensure consistency. The filenames and class labels were also modified for better understanding and cleanliness. This curated dataset has been uploaded to Google Drive and is accessible to anyone with the provided link in the code."
      ]
    },
    {
      "cell_type": "markdown",
      "source": [
        "### Importing Libraries"
      ],
      "metadata": {
        "id": "RTJ8sF9XA7ux"
      }
    },
    {
      "cell_type": "code",
      "source": [
        "# Google Colab specific imports\n",
        "from google.colab import drive, files\n",
        "\n",
        "# Standard library imports\n",
        "import zipfile\n",
        "import os\n",
        "import shutil\n",
        "\n",
        "# Data manipulation and visualization imports\n",
        "import numpy as np\n",
        "import matplotlib.pyplot as plt\n",
        "import seaborn as sns\n",
        "\n",
        "# TensorFlow and Keras imports\n",
        "import tensorflow as tf\n",
        "from keras.preprocessing.image import ImageDataGenerator\n",
        "from tensorflow.keras.utils import img_to_array, load_img\n",
        "from tensorflow.keras.models import Sequential, Model\n",
        "from tensorflow.keras.layers import Conv2D, MaxPooling2D, Flatten, Dense, Dropout, GlobalAveragePooling2D\n",
        "from tensorflow.keras.optimizers import Adam\n",
        "from tensorflow.keras.callbacks import EarlyStopping, LearningRateScheduler\n",
        "from tensorflow.keras.regularizers import l2\n",
        "\n",
        "# Scikit-learn imports\n",
        "from sklearn.metrics import classification_report, confusion_matrix\n",
        "from sklearn.utils.class_weight import compute_class_weight\n",
        "from sklearn.model_selection import train_test_split\n",
        "from sklearn.linear_model import LogisticRegression\n",
        "from sklearn.preprocessing import StandardScaler"
      ],
      "metadata": {
        "id": "n8THcDP0A-ZZ"
      },
      "execution_count": 8,
      "outputs": []
    },
    {
      "cell_type": "markdown",
      "metadata": {
        "id": "Hzfoh517RpVG"
      },
      "source": [
        "### Download and Extract Dataset"
      ]
    },
    {
      "cell_type": "markdown",
      "metadata": {
        "id": "0PHIQyUcRqSl"
      },
      "source": [
        "First, we'll download our dataset from Google Drive and extract it."
      ]
    },
    {
      "cell_type": "code",
      "execution_count": 9,
      "metadata": {
        "colab": {
          "base_uri": "https://localhost:8080/"
        },
        "collapsed": true,
        "id": "_7j5o01AQz3b",
        "outputId": "23c23d2e-8dbe-4c1b-e3ba-460ff618fb98"
      },
      "outputs": [
        {
          "output_type": "stream",
          "name": "stdout",
          "text": [
            "Drive already mounted at /content/drive; to attempt to forcibly remount, call drive.mount(\"/content/drive\", force_remount=True).\n",
            "/usr/local/lib/python3.10/dist-packages/gdown/__main__.py:132: FutureWarning: Option `--id` was deprecated in version 4.3.1 and will be removed in 5.0. You don't need to pass it anymore to use a file ID.\n",
            "  warnings.warn(\n",
            "Downloading...\n",
            "From: https://drive.google.com/uc?id=1QpZ0YzhF4v527s3HcusZtYTb_PzQi8Ju\n",
            "To: /content/drive/MyDrive/chess-piece-images.zip\n",
            "100% 3.59M/3.59M [00:00<00:00, 146MB/s]\n"
          ]
        },
        {
          "output_type": "execute_result",
          "data": {
            "text/plain": [
              "['Bishop', 'King', 'Knight', 'Pawn', 'Queen', 'Rook']"
            ]
          },
          "metadata": {},
          "execution_count": 9
        }
      ],
      "source": [
        "# Mount Google Drive\n",
        "drive.mount('/content/drive')\n",
        "\n",
        "# Path to the dataset zip file\n",
        "dataset_zip_path = '/content/drive/MyDrive/chess-piece-images.zip'\n",
        "# Path to extract the dataset\n",
        "extract_to_path = '/content/drive/MyDrive/chess-piece-images'\n",
        "\n",
        "# Remove the directory if it exists\n",
        "if os.path.exists(extract_to_path):\n",
        "    shutil.rmtree(extract_to_path)\n",
        "\n",
        "# Download the dataset from Google Drive\n",
        "!gdown --id 1QpZ0YzhF4v527s3HcusZtYTb_PzQi8Ju -O {dataset_zip_path}\n",
        "\n",
        "# Unzip the dataset into /content/drive/MyDrive/chess-piece-images\n",
        "with zipfile.ZipFile(dataset_zip_path, 'r') as zip_ref:\n",
        "    zip_ref.extractall(extract_to_path)\n",
        "\n",
        "# Remove the zip file after extraction\n",
        "os.remove(dataset_zip_path)\n",
        "\n",
        "# List the extracted files\n",
        "os.listdir(extract_to_path)"
      ]
    },
    {
      "cell_type": "markdown",
      "source": [
        "### Data Augmentation and Weight Calculation"
      ],
      "metadata": {
        "id": "J-Y4Gh0t8MAV"
      }
    },
    {
      "cell_type": "markdown",
      "source": [
        "Next, we perform enhanced data augmentation and calculate class weights to handle class imbalance."
      ],
      "metadata": {
        "id": "wq6s2lspB-NY"
      }
    },
    {
      "cell_type": "code",
      "execution_count": 10,
      "metadata": {
        "colab": {
          "base_uri": "https://localhost:8080/"
        },
        "id": "Mo70c7VIZxb5",
        "outputId": "44d3869a-5a63-4c4c-a793-1db5bbbc05dd"
      },
      "outputs": [
        {
          "output_type": "stream",
          "name": "stdout",
          "text": [
            "Found 671 images belonging to 6 classes.\n",
            "Found 671 images belonging to 6 classes.\n",
            "Number of classes in training set: 6\n",
            "Number of classes in validation set: 6\n",
            "Class Weights: {0: 0.972463768115942, 1: 1.2155797101449275, 2: 0.7309368191721133, 3: 1.5319634703196348, 4: 1.065079365079365, 5: 0.8408521303258145}\n"
          ]
        }
      ],
      "source": [
        "# Enhanced data augmentation\n",
        "train_datagen = ImageDataGenerator(\n",
        "    rescale=1.0/255,\n",
        "    rotation_range=40,\n",
        "    width_shift_range=0.2,\n",
        "    height_shift_range=0.2,\n",
        "    shear_range=0.2,\n",
        "    zoom_range=0.2,\n",
        "    horizontal_flip=True,\n",
        "    fill_mode='nearest'\n",
        ")\n",
        "\n",
        "validation_datagen = ImageDataGenerator(rescale=1.0/255)\n",
        "\n",
        "# Ensure the path points to the root directory containing all class subdirectories\n",
        "train_generator = train_datagen.flow_from_directory(\n",
        "    '/content/drive/MyDrive/chess-piece-images',  # Path to the train directory\n",
        "    target_size=(224, 224),\n",
        "    batch_size=32,\n",
        "    class_mode='categorical'\n",
        ")\n",
        "\n",
        "validation_generator = validation_datagen.flow_from_directory(\n",
        "    '/content/drive/MyDrive/chess-piece-images',  # Path to the validation directory\n",
        "    target_size=(224, 224),\n",
        "    batch_size=32,\n",
        "    class_mode='categorical'\n",
        ")\n",
        "\n",
        "# Check the number of classes found by the generator\n",
        "print(f\"Number of classes in training set: {len(train_generator.class_indices)}\")\n",
        "print(f\"Number of classes in validation set: {len(validation_generator.class_indices)}\")\n",
        "\n",
        "# Compute class weights only if the correct number of classes is found\n",
        "if len(train_generator.class_indices) == 6:\n",
        "    class_weights = compute_class_weight(class_weight='balanced', classes=np.unique(train_generator.classes), y=train_generator.classes)\n",
        "    class_weights = dict(enumerate(class_weights))\n",
        "    print(\"Class Weights:\", class_weights)\n",
        "else:\n",
        "    print(\"Error: Number of classes found is not equal to 6. Please check the dataset directory structure.\")"
      ]
    },
    {
      "cell_type": "markdown",
      "metadata": {
        "id": "IOgfh0O3SqDf"
      },
      "source": [
        "## **3. Modeling**"
      ]
    },
    {
      "cell_type": "markdown",
      "source": [
        "### Model Definition and Training"
      ],
      "metadata": {
        "id": "rTMu2EbU8XiM"
      }
    },
    {
      "cell_type": "markdown",
      "source": [
        "Next, we load the pre-trained MobileNetV2 model, add custom top layers, and train the model with class weights and learning rate scheduling."
      ],
      "metadata": {
        "id": "J7fFMu9fCPP7"
      }
    },
    {
      "cell_type": "code",
      "source": [
        "# Load the pre-trained MobileNetV2 model and exclude the top layers\n",
        "base_model = MobileNetV2(weights='imagenet', include_top=False, input_shape=(224, 224, 3))\n",
        "\n",
        "# Add custom top layers with dropout and L2 regularization\n",
        "x = base_model.output  # Output of the base model\n",
        "x = GlobalAveragePooling2D()(x)  # Add global average pooling layer\n",
        "x = Dropout(0.3)(x)  # Add dropout layer with 30% dropout rate\n",
        "x = Dense(512, activation='relu', kernel_regularizer=l2(0.001))(x)  # Add dense layer with L2 regularization\n",
        "x = Dropout(0.3)(x)  # Add another dropout layer with 30% dropout rate\n",
        "predictions = Dense(6, activation='softmax', kernel_regularizer=l2(0.001))(x)  # Output layer with L2 regularization\n",
        "\n",
        "# Create the final model\n",
        "model = Model(inputs=base_model.input, outputs=predictions)\n",
        "\n",
        "# Unfreeze some layers in the base model\n",
        "for layer in base_model.layers[:100]:\n",
        "    layer.trainable = False\n",
        "for layer in base_model.layers[100:]:\n",
        "    layer.trainable = True\n",
        "\n",
        "# Define a learning rate schedule\n",
        "def lr_schedule(epoch, lr):\n",
        "    if epoch < 10:\n",
        "        return lr\n",
        "    else:\n",
        "        return lr * tf.math.exp(-0.1)\n",
        "\n",
        "# Compile the model with a lower learning rate\n",
        "optimizer = Adam(learning_rate=1e-5)\n",
        "model.compile(optimizer=optimizer, loss='categorical_crossentropy', metrics=['accuracy'])\n",
        "\n",
        "# Add early stopping to prevent overfitting\n",
        "early_stopping = EarlyStopping(monitor='val_loss', patience=5, restore_best_weights=True)\n",
        "\n",
        "# Train the model with class weights and learning rate scheduling if the correct number of classes is found\n",
        "if len(train_generator.class_indices) == 6:\n",
        "    history = model.fit(\n",
        "        train_generator,\n",
        "        steps_per_epoch=train_generator.samples // train_generator.batch_size,\n",
        "        epochs=50,  # Increase the number of epochs\n",
        "        validation_data=validation_generator,\n",
        "        validation_steps=validation_generator.samples // validation_generator.batch_size,\n",
        "        class_weight=class_weights,\n",
        "        callbacks=[LearningRateScheduler(lr_schedule), early_stopping]\n",
        "    )\n",
        "    # Save the model to a file\n",
        "    model.save('/content/drive/MyDrive/chess_piece_classifier_model.h5')\n",
        "else:\n",
        "    print(\"Error: Model training aborted due to incorrect number of classes.\")"
      ],
      "metadata": {
        "colab": {
          "base_uri": "https://localhost:8080/"
        },
        "collapsed": true,
        "id": "R-MngjI3V6kf",
        "outputId": "8f66a888-a3f6-4ed3-b3b8-9d5046621a23"
      },
      "execution_count": null,
      "outputs": [
        {
          "output_type": "stream",
          "name": "stdout",
          "text": [
            "Epoch 1/50\n",
            "20/20 [==============================] - 110s 5s/step - loss: 3.0013 - accuracy: 0.2254 - val_loss: 2.6208 - val_accuracy: 0.2031 - lr: 1.0000e-05\n",
            "Epoch 2/50\n",
            "20/20 [==============================] - 88s 4s/step - loss: 2.8293 - accuracy: 0.2144 - val_loss: 2.5450 - val_accuracy: 0.2422 - lr: 1.0000e-05\n",
            "Epoch 3/50\n",
            "20/20 [==============================] - 99s 5s/step - loss: 2.6927 - accuracy: 0.2567 - val_loss: 2.4987 - val_accuracy: 0.2719 - lr: 1.0000e-05\n",
            "Epoch 4/50\n",
            "20/20 [==============================] - 88s 4s/step - loss: 2.6283 - accuracy: 0.2645 - val_loss: 2.4585 - val_accuracy: 0.2922 - lr: 1.0000e-05\n",
            "Epoch 5/50\n",
            "20/20 [==============================] - 89s 4s/step - loss: 2.6031 - accuracy: 0.2723 - val_loss: 2.4119 - val_accuracy: 0.3125 - lr: 1.0000e-05\n",
            "Epoch 6/50\n",
            "20/20 [==============================] - 86s 4s/step - loss: 2.5034 - accuracy: 0.2676 - val_loss: 2.3616 - val_accuracy: 0.3516 - lr: 1.0000e-05\n",
            "Epoch 7/50\n",
            "20/20 [==============================] - 102s 5s/step - loss: 2.4416 - accuracy: 0.3505 - val_loss: 2.3202 - val_accuracy: 0.3781 - lr: 1.0000e-05\n",
            "Epoch 8/50\n",
            "20/20 [==============================] - 97s 5s/step - loss: 2.3327 - accuracy: 0.3725 - val_loss: 2.2715 - val_accuracy: 0.3938 - lr: 1.0000e-05\n",
            "Epoch 9/50\n",
            "20/20 [==============================] - 100s 5s/step - loss: 2.2676 - accuracy: 0.3975 - val_loss: 2.2263 - val_accuracy: 0.4328 - lr: 1.0000e-05\n",
            "Epoch 10/50\n",
            "20/20 [==============================] - 98s 5s/step - loss: 2.2541 - accuracy: 0.4178 - val_loss: 2.1781 - val_accuracy: 0.4609 - lr: 1.0000e-05\n",
            "Epoch 11/50\n",
            "20/20 [==============================] - 92s 5s/step - loss: 2.2200 - accuracy: 0.4319 - val_loss: 2.1306 - val_accuracy: 0.5000 - lr: 9.0484e-06\n",
            "Epoch 12/50\n",
            "20/20 [==============================] - 98s 5s/step - loss: 2.1305 - accuracy: 0.4898 - val_loss: 2.0921 - val_accuracy: 0.5172 - lr: 8.1873e-06\n",
            "Epoch 13/50\n",
            "20/20 [==============================] - 97s 5s/step - loss: 2.1634 - accuracy: 0.4523 - val_loss: 2.0541 - val_accuracy: 0.5297 - lr: 7.4082e-06\n",
            "Epoch 14/50\n",
            "20/20 [==============================] - 92s 5s/step - loss: 2.1097 - accuracy: 0.4851 - val_loss: 2.0171 - val_accuracy: 0.5500 - lr: 6.7032e-06\n",
            "Epoch 15/50\n",
            "20/20 [==============================] - 97s 5s/step - loss: 2.0576 - accuracy: 0.5102 - val_loss: 1.9790 - val_accuracy: 0.5672 - lr: 6.0653e-06\n",
            "Epoch 16/50\n",
            "20/20 [==============================] - 100s 5s/step - loss: 2.0176 - accuracy: 0.5368 - val_loss: 1.9566 - val_accuracy: 0.5875 - lr: 5.4881e-06\n",
            "Epoch 17/50\n",
            "20/20 [==============================] - 99s 5s/step - loss: 2.0123 - accuracy: 0.5399 - val_loss: 1.9407 - val_accuracy: 0.5938 - lr: 4.9659e-06\n",
            "Epoch 18/50\n",
            "20/20 [==============================] - 99s 5s/step - loss: 1.9888 - accuracy: 0.5462 - val_loss: 1.9077 - val_accuracy: 0.6141 - lr: 4.4933e-06\n",
            "Epoch 19/50\n",
            "20/20 [==============================] - 90s 5s/step - loss: 1.9351 - accuracy: 0.5540 - val_loss: 1.8926 - val_accuracy: 0.6156 - lr: 4.0657e-06\n",
            "Epoch 20/50\n",
            "20/20 [==============================] - 99s 5s/step - loss: 1.8831 - accuracy: 0.5869 - val_loss: 1.8634 - val_accuracy: 0.6250 - lr: 3.6788e-06\n",
            "Epoch 21/50\n",
            "20/20 [==============================] - 101s 5s/step - loss: 1.9421 - accuracy: 0.5728 - val_loss: 1.8408 - val_accuracy: 0.6328 - lr: 3.3287e-06\n",
            "Epoch 22/50\n",
            "20/20 [==============================] - 99s 5s/step - loss: 1.9438 - accuracy: 0.5430 - val_loss: 1.8263 - val_accuracy: 0.6375 - lr: 3.0119e-06\n",
            "Epoch 23/50\n",
            "20/20 [==============================] - 97s 5s/step - loss: 1.9051 - accuracy: 0.6009 - val_loss: 1.8150 - val_accuracy: 0.6422 - lr: 2.7253e-06\n",
            "Epoch 24/50\n",
            "20/20 [==============================] - 98s 5s/step - loss: 1.8989 - accuracy: 0.5869 - val_loss: 1.7984 - val_accuracy: 0.6453 - lr: 2.4660e-06\n",
            "Epoch 25/50\n",
            "20/20 [==============================] - 98s 5s/step - loss: 1.9030 - accuracy: 0.5790 - val_loss: 1.7845 - val_accuracy: 0.6531 - lr: 2.2313e-06\n",
            "Epoch 26/50\n",
            "20/20 [==============================] - 96s 5s/step - loss: 1.8955 - accuracy: 0.5696 - val_loss: 1.7591 - val_accuracy: 0.6641 - lr: 2.0190e-06\n",
            "Epoch 27/50\n",
            "20/20 [==============================] - 98s 5s/step - loss: 1.9228 - accuracy: 0.5884 - val_loss: 1.7578 - val_accuracy: 0.6609 - lr: 1.8268e-06\n",
            "Epoch 28/50\n",
            "20/20 [==============================] - 98s 5s/step - loss: 1.8190 - accuracy: 0.5962 - val_loss: 1.7389 - val_accuracy: 0.6750 - lr: 1.6530e-06\n",
            "Epoch 29/50\n",
            "20/20 [==============================] - 98s 5s/step - loss: 1.8156 - accuracy: 0.5947 - val_loss: 1.7346 - val_accuracy: 0.6719 - lr: 1.4957e-06\n",
            "Epoch 30/50\n",
            "20/20 [==============================] - 102s 5s/step - loss: 1.8695 - accuracy: 0.5837 - val_loss: 1.7248 - val_accuracy: 0.6797 - lr: 1.3534e-06\n",
            "Epoch 31/50\n",
            "20/20 [==============================] - 99s 5s/step - loss: 1.8509 - accuracy: 0.5900 - val_loss: 1.7173 - val_accuracy: 0.6750 - lr: 1.2246e-06\n",
            "Epoch 32/50\n",
            "20/20 [==============================] - 90s 5s/step - loss: 1.8204 - accuracy: 0.5900 - val_loss: 1.7058 - val_accuracy: 0.6828 - lr: 1.1080e-06\n",
            "Epoch 33/50\n",
            "20/20 [==============================] - 99s 5s/step - loss: 1.8486 - accuracy: 0.6041 - val_loss: 1.6955 - val_accuracy: 0.6844 - lr: 1.0026e-06\n",
            "Epoch 34/50\n",
            "20/20 [==============================] - 99s 5s/step - loss: 1.7977 - accuracy: 0.5978 - val_loss: 1.6810 - val_accuracy: 0.6922 - lr: 9.0718e-07\n",
            "Epoch 35/50\n",
            "20/20 [==============================] - 100s 5s/step - loss: 1.8588 - accuracy: 0.5994 - val_loss: 1.6885 - val_accuracy: 0.6938 - lr: 8.2085e-07\n",
            "Epoch 36/50\n",
            "20/20 [==============================] - 98s 5s/step - loss: 1.8203 - accuracy: 0.6103 - val_loss: 1.6780 - val_accuracy: 0.7047 - lr: 7.4274e-07\n",
            "Epoch 37/50\n",
            "20/20 [==============================] - 100s 5s/step - loss: 1.8759 - accuracy: 0.5891 - val_loss: 1.6787 - val_accuracy: 0.6938 - lr: 6.7206e-07\n",
            "Epoch 38/50\n",
            "20/20 [==============================] - 91s 5s/step - loss: 1.7930 - accuracy: 0.6009 - val_loss: 1.6724 - val_accuracy: 0.6938 - lr: 6.0810e-07\n",
            "Epoch 39/50\n",
            "20/20 [==============================] - 102s 5s/step - loss: 1.7738 - accuracy: 0.6103 - val_loss: 1.6512 - val_accuracy: 0.7063 - lr: 5.5023e-07\n",
            "Epoch 40/50\n",
            "20/20 [==============================] - 94s 5s/step - loss: 1.7960 - accuracy: 0.6275 - val_loss: 1.6550 - val_accuracy: 0.7109 - lr: 4.9787e-07\n",
            "Epoch 41/50\n",
            "20/20 [==============================] - 94s 5s/step - loss: 1.8360 - accuracy: 0.6150 - val_loss: 1.6503 - val_accuracy: 0.7156 - lr: 4.5049e-07\n",
            "Epoch 42/50\n",
            "20/20 [==============================] - 90s 5s/step - loss: 1.7991 - accuracy: 0.6338 - val_loss: 1.6517 - val_accuracy: 0.7094 - lr: 4.0762e-07\n",
            "Epoch 43/50\n",
            "20/20 [==============================] - 99s 5s/step - loss: 1.8110 - accuracy: 0.6166 - val_loss: 1.6472 - val_accuracy: 0.7141 - lr: 3.6883e-07\n",
            "Epoch 44/50\n",
            "20/20 [==============================] - 98s 5s/step - loss: 1.8191 - accuracy: 0.6041 - val_loss: 1.6424 - val_accuracy: 0.7172 - lr: 3.3373e-07\n",
            "Epoch 45/50\n",
            "20/20 [==============================] - 99s 5s/step - loss: 1.7896 - accuracy: 0.6375 - val_loss: 1.6341 - val_accuracy: 0.7141 - lr: 3.0197e-07\n",
            "Epoch 46/50\n",
            "20/20 [==============================] - 86s 4s/step - loss: 1.8117 - accuracy: 0.6297 - val_loss: 1.6338 - val_accuracy: 0.7219 - lr: 2.7324e-07\n",
            "Epoch 47/50\n",
            "20/20 [==============================] - 99s 5s/step - loss: 1.8115 - accuracy: 0.6338 - val_loss: 1.6311 - val_accuracy: 0.7172 - lr: 2.4724e-07\n",
            "Epoch 48/50\n",
            "20/20 [==============================] - 99s 5s/step - loss: 1.7675 - accuracy: 0.6213 - val_loss: 1.6222 - val_accuracy: 0.7250 - lr: 2.2371e-07\n",
            "Epoch 49/50\n",
            "20/20 [==============================] - 101s 5s/step - loss: 1.7887 - accuracy: 0.6088 - val_loss: 1.6260 - val_accuracy: 0.7156 - lr: 2.0242e-07\n",
            "Epoch 50/50\n",
            "20/20 [==============================] - 85s 4s/step - loss: 1.7767 - accuracy: 0.6354 - val_loss: 1.6196 - val_accuracy: 0.7219 - lr: 1.8316e-07\n"
          ]
        },
        {
          "output_type": "stream",
          "name": "stderr",
          "text": [
            "/usr/local/lib/python3.10/dist-packages/keras/src/engine/training.py:3103: UserWarning: You are saving your model as an HDF5 file via `model.save()`. This file format is considered legacy. We recommend using instead the native Keras format, e.g. `model.save('my_model.keras')`.\n",
            "  saving_api.save_model(\n"
          ]
        }
      ]
    },
    {
      "cell_type": "markdown",
      "metadata": {
        "id": "WPSTcpViMls-"
      },
      "source": [
        "### Rationale Behind Model Choises"
      ]
    },
    {
      "cell_type": "markdown",
      "metadata": {
        "id": "Jz96ZgbwM1KJ"
      },
      "source": [
        "The MobileNetV2 model was chosen for its balance between speed and accuracy, making it suitable for resource-constrained environments. Although models like ResNet50 and InceptionV3 were considered, MobileNetV2 provided the best trade-off for our chess piece images dataset.\n",
        "\n",
        "We utilized the Adam optimizer due to its effectiveness in training deep neural networks. Dropout layers were added to reduce overfitting, and learning rate scheduling was implemented to ensure better convergence. Class weights were computed to handle class imbalance in the dataset."
      ]
    },
    {
      "cell_type": "markdown",
      "metadata": {
        "id": "jXLZoM22ULYi"
      },
      "source": [
        "## **4. Interpretation and Validation**"
      ]
    },
    {
      "cell_type": "markdown",
      "source": [
        "### Model Evaluation"
      ],
      "metadata": {
        "id": "iGZbtY5VDYN0"
      }
    },
    {
      "cell_type": "markdown",
      "source": [
        "Next, we evaluate the model on the validation set, generate predictions, and create a classification report and confusion matrix."
      ],
      "metadata": {
        "id": "sTXF47cnDa5P"
      }
    },
    {
      "cell_type": "markdown",
      "source": [
        "### Feature Extraction and Baseline Comparison"
      ],
      "metadata": {
        "id": "SGYCC2LoDnPZ"
      }
    },
    {
      "cell_type": "code",
      "source": [
        "# Evaluate the model on the validation set\n",
        "val_steps = validation_generator.samples // validation_generator.batch_size\n",
        "val_loss, val_accuracy = model.evaluate(validation_generator, steps=val_steps)\n",
        "print(f\"Validation Loss: {val_loss}\")\n",
        "print(f\"Validation Accuracy: {val_accuracy}\")\n",
        "\n",
        "# Predict the labels for the validation set\n",
        "validation_generator.reset()\n",
        "y_pred = model.predict(validation_generator, steps=val_steps)\n",
        "y_pred_classes = y_pred.argmax(axis=1)\n",
        "y_true = validation_generator.classes\n",
        "\n",
        "# Ensure y_pred_classes and y_true have the same length\n",
        "min_len = min(len(y_true), len(y_pred_classes))\n",
        "y_true = y_true[:min_len]\n",
        "y_pred_classes = y_pred_classes[:min_len]\n",
        "\n",
        "# Generate a classification report\n",
        "class_labels = list(validation_generator.class_indices.keys())\n",
        "report = classification_report(y_true, y_pred_classes, target_names=class_labels)\n",
        "print(report)\n",
        "\n",
        "# Generate a confusion matrix\n",
        "cm = confusion_matrix(y_true, y_pred_classes)\n",
        "plt.figure(figsize=(10, 8))\n",
        "sns.heatmap(cm, annot=True, fmt='d', cmap='Blues', xticklabels=class_labels, yticklabels=class_labels)\n",
        "plt.xlabel('Predicted')\n",
        "plt.ylabel('True')\n",
        "plt.title('Confusion Matrix')\n",
        "plt.show()"
      ],
      "metadata": {
        "colab": {
          "base_uri": "https://localhost:8080/",
          "height": 1000
        },
        "id": "VGRjA2teLUeH",
        "outputId": "d2f55c41-0276-40b2-f565-d1a10d810fc7"
      },
      "execution_count": 11,
      "outputs": [
        {
          "output_type": "stream",
          "name": "stdout",
          "text": [
            "20/20 [==============================] - 31s 1s/step - loss: 1.6160 - accuracy: 0.7234\n",
            "Validation Loss: 1.6160151958465576\n",
            "Validation Accuracy: 0.723437488079071\n",
            "20/20 [==============================] - 29s 1s/step\n",
            "              precision    recall  f1-score   support\n",
            "\n",
            "      Bishop       0.15      0.13      0.14       115\n",
            "        King       0.14      0.25      0.18        92\n",
            "      Knight       0.22      0.18      0.20       153\n",
            "        Pawn       0.10      0.14      0.11        73\n",
            "       Queen       0.15      0.07      0.09       105\n",
            "        Rook       0.23      0.23      0.23       102\n",
            "\n",
            "    accuracy                           0.17       640\n",
            "   macro avg       0.16      0.17      0.16       640\n",
            "weighted avg       0.17      0.17      0.16       640\n",
            "\n"
          ]
        },
        {
          "output_type": "display_data",
          "data": {
            "text/plain": [
              "<Figure size 1000x800 with 2 Axes>"
            ],
            "image/png": "[encoded data removed]"
          },
          "metadata": {}
        }
      ]
    },
    {
      "cell_type": "markdown",
      "source": [
        "Lastly, we extract features using the pre-trained model, train a baseline model, and compare its performance with the CNN model."
      ],
      "metadata": {
        "id": "rm_Aif9CDqDq"
      }
    },
    {
      "cell_type": "code",
      "execution_count": 12,
      "metadata": {
        "colab": {
          "base_uri": "https://localhost:8080/"
        },
        "id": "GyfpHnvwaC1b",
        "outputId": "dcd8c39d-8b48-42f8-81d3-bf06e682ece4"
      },
      "outputs": [
        {
          "output_type": "stream",
          "name": "stdout",
          "text": [
            "21/21 [==============================] - 42s 2s/step\n",
            "21/21 [==============================] - 29s 1s/step\n",
            "Transfer Learning Model Accuracy: 0.723437488079071\n",
            "Baseline Model Accuracy: 0.2\n"
          ]
        }
      ],
      "source": [
        "# Function to extract features using the pre-trained model\n",
        "def extract_features(generator, model):\n",
        "    features = model.predict(generator)\n",
        "    return features.reshape(features.shape[0], -1)\n",
        "\n",
        "# Extract features from training and validation sets\n",
        "train_features = extract_features(train_generator, model)\n",
        "val_features = extract_features(validation_generator, model)\n",
        "\n",
        "# Split the data into training and test sets for cross-validation\n",
        "X_train, X_test, y_train, y_test = train_test_split(train_features, train_generator.classes, test_size=0.2, random_state=42)\n",
        "\n",
        "# Train a simple baseline model (Logistic Regression)\n",
        "scaler = StandardScaler()\n",
        "X_train_scaled = scaler.fit_transform(X_train)\n",
        "X_test_scaled = scaler.transform(X_test)\n",
        "\n",
        "baseline_model = LogisticRegression(max_iter=1000)\n",
        "baseline_model.fit(X_train_scaled, y_train)\n",
        "\n",
        "# Evaluate the baseline model\n",
        "baseline_accuracy = baseline_model.score(X_test_scaled, y_test)\n",
        "\n",
        "# Compare the performance of the baseline model and the CNN model\n",
        "print(f\"Transfer Learning Model Accuracy: {val_accuracy}\")\n",
        "print(f\"Baseline Model Accuracy: {baseline_accuracy}\")"
      ]
    },
    {
      "cell_type": "markdown",
      "source": [
        "### Self Validation"
      ],
      "metadata": {
        "id": "BVvpFVrb7VNw"
      }
    },
    {
      "cell_type": "markdown",
      "source": [
        "Here you can upload a picture of a chess piece and the model will try to classify its type."
      ],
      "metadata": {
        "id": "BfXDXIT87aL7"
      }
    },
    {
      "cell_type": "code",
      "source": [
        "drive.mount('/content/drive')\n",
        "\n",
        "# Function to upload an image\n",
        "def upload_and_classify_image(model, class_labels):\n",
        "    # Prompt user to upload a file\n",
        "    print(\"Please upload a JPG image of a chess piece.\")\n",
        "\n",
        "    # Upload file\n",
        "    uploaded = files.upload()\n",
        "\n",
        "    for fn in uploaded.keys():\n",
        "        # Load the image\n",
        "        img = image.load_img(fn, target_size=(224, 224))\n",
        "\n",
        "        # Preprocess the image\n",
        "        img_array = image.img_to_array(img)\n",
        "        img_array = np.expand_dims(img_array, axis=0)\n",
        "        img_array /= 255.0\n",
        "\n",
        "        # Predict the class\n",
        "        predictions = model.predict(img_array)\n",
        "        predicted_class = np.argmax(predictions[0])\n",
        "\n",
        "        # Display the image and the prediction\n",
        "        plt.imshow(img)\n",
        "        plt.axis('off')\n",
        "        plt.title(f'Predicted: {class_labels[predicted_class]}')\n",
        "        plt.show()\n",
        "\n",
        "        print(f'Predicted class: {class_labels[predicted_class]}')\n",
        "\n",
        "# Define the class labels\n",
        "class_labels = ['Bishop', 'King', 'Knight', 'Pawn', 'Queen', 'Rook']\n",
        "\n",
        "# Load the pre-trained model\n",
        "model = tf.keras.models.load_model('/content/drive/MyDrive/chess_piece_classifier_model.h5')\n",
        "\n",
        "# Run the upload and classify function\n",
        "upload_and_classify_image(model, class_labels)"
      ],
      "metadata": {
        "colab": {
          "base_uri": "https://localhost:8080/",
          "height": 559
        },
        "id": "Mj1Dj7157mYF",
        "outputId": "3084980a-10ef-4355-e530-e092d34d6aaf"
      },
      "execution_count": null,
      "outputs": [
        {
          "output_type": "stream",
          "name": "stdout",
          "text": [
            "Mounted at /content/drive\n",
            "Please upload a JPG image of a chess piece.\n"
          ]
        },
        {
          "output_type": "display_data",
          "data": {
            "text/plain": [
              "<IPython.core.display.HTML object>"
            ],
            "text/html": [
              "\n",
              "     <input type=\"file\" id=\"files-3361982b-d72d-41b5-b9f6-3f04c5af175b\" name=\"files[]\" multiple disabled\n",
              "        style=\"border:none\" />\n",
              "     <output id=\"result-3361982b-d72d-41b5-b9f6-3f04c5af175b\">\n",
              "      Upload widget is only available when the cell has been executed in the\n",
              "      current browser session. Please rerun this cell to enable.\n",
              "      </output>\n",
              "      <script>// Copyright 2017 Google LLC\n",
              "//\n",
              "// Licensed under the Apache License, Version 2.0 (the \"License\");\n",
              "// you may not use this file except in compliance with the License.\n",
              "// You may obtain a copy of the License at\n",
              "//\n",
              "//      http://www.apache.org/licenses/LICENSE-2.0\n",
              "//\n",
              "// Unless required by applicable law or agreed to in writing, software\n",
              "// distributed under the License is distributed on an \"AS IS\" BASIS,\n",
              "// WITHOUT WARRANTIES OR CONDITIONS OF ANY KIND, either express or implied.\n",
              "// See the License for the specific language governing permissions and\n",
              "// limitations under the License.\n",
              "\n",
              "/**\n",
              " * @fileoverview Helpers for google.colab Python module.\n",
              " */\n",
              "(function(scope) {\n",
              "function span(text, styleAttributes = {}) {\n",
              "  const element = document.createElement('span');\n",
              "  element.textContent = text;\n",
              "  for (const key of Object.keys(styleAttributes)) {\n",
              "    element.style[key] = styleAttributes[key];\n",
              "  }\n",
              "  return element;\n",
              "}\n",
              "\n",
              "// Max number of bytes which will be uploaded at a time.\n",
              "const MAX_PAYLOAD_SIZE = 100 * 1024;\n",
              "\n",
              "function _uploadFiles(inputId, outputId) {\n",
              "  const steps = uploadFilesStep(inputId, outputId);\n",
              "  const outputElement = document.getElementById(outputId);\n",
              "  // Cache steps on the outputElement to make it available for the next call\n",
              "  // to uploadFilesContinue from Python.\n",
              "  outputElement.steps = steps;\n",
              "\n",
              "  return _uploadFilesContinue(outputId);\n",
              "}\n",
              "\n",
              "// This is roughly an async generator (not supported in the browser yet),\n",
              "// where there are multiple asynchronous steps and the Python side is going\n",
              "// to poll for completion of each step.\n",
              "// This uses a Promise to block the python side on completion of each step,\n",
              "// then passes the result of the previous step as the input to the next step.\n",
              "function _uploadFilesContinue(outputId) {\n",
              "  const outputElement = document.getElementById(outputId);\n",
              "  const steps = outputElement.steps;\n",
              "\n",
              "  const next = steps.next(outputElement.lastPromiseValue);\n",
              "  return Promise.resolve(next.value.promise).then((value) => {\n",
              "    // Cache the last promise value to make it available to the next\n",
              "    // step of the generator.\n",
              "    outputElement.lastPromiseValue = value;\n",
              "    return next.value.response;\n",
              "  });\n",
              "}\n",
              "\n",
              "/**\n",
              " * Generator function which is called between each async step of the upload\n",
              " * process.\n",
              " * @param {string} inputId Element ID of the input file picker element.\n",
              " * @param {string} outputId Element ID of the output display.\n",
              " * @return {!Iterable<!Object>} Iterable of next steps.\n",
              " */\n",
              "function* uploadFilesStep(inputId, outputId) {\n",
              "  const inputElement = document.getElementById(inputId);\n",
              "  inputElement.disabled = false;\n",
              "\n",
              "  const outputElement = document.getElementById(outputId);\n",
              "  outputElement.innerHTML = '';\n",
              "\n",
              "  const pickedPromise = new Promise((resolve) => {\n",
              "    inputElement.addEventListener('change', (e) => {\n",
              "      resolve(e.target.files);\n",
              "    });\n",
              "  });\n",
              "\n",
              "  const cancel = document.createElement('button');\n",
              "  inputElement.parentElement.appendChild(cancel);\n",
              "  cancel.textContent = 'Cancel upload';\n",
              "  const cancelPromise = new Promise((resolve) => {\n",
              "    cancel.onclick = () => {\n",
              "      resolve(null);\n",
              "    };\n",
              "  });\n",
              "\n",
              "  // Wait for the user to pick the files.\n",
              "  const files = yield {\n",
              "    promise: Promise.race([pickedPromise, cancelPromise]),\n",
              "    response: {\n",
              "      action: 'starting',\n",
              "    }\n",
              "  };\n",
              "\n",
              "  cancel.remove();\n",
              "\n",
              "  // Disable the input element since further picks are not allowed.\n",
              "  inputElement.disabled = true;\n",
              "\n",
              "  if (!files) {\n",
              "    return {\n",
              "      response: {\n",
              "        action: 'complete',\n",
              "      }\n",
              "    };\n",
              "  }\n",
              "\n",
              "  for (const file of files) {\n",
              "    const li = document.createElement('li');\n",
              "    li.append(span(file.name, {fontWeight: 'bold'}));\n",
              "    li.append(span(\n",
              "        `(${file.type || 'n/a'}) - ${file.size} bytes, ` +\n",
              "        `last modified: ${\n",
              "            file.lastModifiedDate ? file.lastModifiedDate.toLocaleDateString() :\n",
              "                                    'n/a'} - `));\n",
              "    const percent = span('0% done');\n",
              "    li.appendChild(percent);\n",
              "\n",
              "    outputElement.appendChild(li);\n",
              "\n",
              "    const fileDataPromise = new Promise((resolve) => {\n",
              "      const reader = new FileReader();\n",
              "      reader.onload = (e) => {\n",
              "        resolve(e.target.result);\n",
              "      };\n",
              "      reader.readAsArrayBuffer(file);\n",
              "    });\n",
              "    // Wait for the data to be ready.\n",
              "    let fileData = yield {\n",
              "      promise: fileDataPromise,\n",
              "      response: {\n",
              "        action: 'continue',\n",
              "      }\n",
              "    };\n",
              "\n",
              "    // Use a chunked sending to avoid message size limits. See b/62115660.\n",
              "    let position = 0;\n",
              "    do {\n",
              "      const length = Math.min(fileData.byteLength - position, MAX_PAYLOAD_SIZE);\n",
              "      const chunk = new Uint8Array(fileData, position, length);\n",
              "      position += length;\n",
              "\n",
              "      const base64 = btoa(String.fromCharCode.apply(null, chunk));\n",
              "      yield {\n",
              "        response: {\n",
              "          action: 'append',\n",
              "          file: file.name,\n",
              "          data: base64,\n",
              "        },\n",
              "      };\n",
              "\n",
              "      let percentDone = fileData.byteLength === 0 ?\n",
              "          100 :\n",
              "          Math.round((position / fileData.byteLength) * 100);\n",
              "      percent.textContent = `${percentDone}% done`;\n",
              "\n",
              "    } while (position < fileData.byteLength);\n",
              "  }\n",
              "\n",
              "  // All done.\n",
              "  yield {\n",
              "    response: {\n",
              "      action: 'complete',\n",
              "    }\n",
              "  };\n",
              "}\n",
              "\n",
              "scope.google = scope.google || {};\n",
              "scope.google.colab = scope.google.colab || {};\n",
              "scope.google.colab._files = {\n",
              "  _uploadFiles,\n",
              "  _uploadFilesContinue,\n",
              "};\n",
              "})(self);\n",
              "</script> "
            ]
          },
          "metadata": {}
        },
        {
          "output_type": "stream",
          "name": "stdout",
          "text": [
            "Saving 00000010_resized.jpg to 00000010_resized.jpg\n",
            "1/1 [==============================] - 2s 2s/step\n"
          ]
        },
        {
          "output_type": "display_data",
          "data": {
            "text/plain": [
              "<Figure size 640x480 with 1 Axes>"
            ],
            "image/png": "[encoded data removed]"
          },
          "metadata": {}
        },
        {
          "output_type": "stream",
          "name": "stdout",
          "text": [
            "Predicted class: Rook\n"
          ]
        }
      ]
    },
    {
      "cell_type": "markdown",
      "metadata": {
        "id": "YzTo3-MkUwoc"
      },
      "source": [
        "### Conclusion"
      ]
    },
    {
      "cell_type": "markdown",
      "metadata": {
        "id": "CGtN71NbUzQL"
      },
      "source": [
        "The MobileNetV2-based chess piece classification model has not achieved the desired accuracy, as indicated by the confusion matrix. Despite extensive training and fine-tuning, the model likely overfits due to the small dataset. Several factors contribute to the model's suboptimal performance:\n",
        "\n",
        "- Limited Dataset Size: The dataset used for training the model is relatively small. Deep learning models, especially convolutional neural networks like MobileNetV2, require large amounts of data to generalize well. With a limited dataset, the model may learn to memorize the training images rather than generalize to new, unseen images, leading to overfitting.\n",
        "\n",
        "- Hyperparameter Optimization: Although extensive training and fine-tuning were performed, finding the optimal hyperparameters (such as learning rate, batch size, number of epochs, and regularization parameters) for the model can be challenging. Suboptimal hyperparameters can lead to inadequate training and poor model performance.\n",
        "\n",
        "- Complexity of the Task: Chess piece classification involves distinguishing between pieces that may look quite similar, especially in small or low-resolution images. The model might struggle to capture subtle differences, resulting in misclassifications."
      ]
    }
  ],
  "metadata": {
    "colab": {
      "provenance": [],
      "authorship_tag": "ABX9TyNK6dvdThodPOFoUbp4ySIu",
      "include_colab_link": true
    },
    "kernelspec": {
      "display_name": "Python 3",
      "name": "python3"
    },
    "language_info": {
      "name": "python"
    }
  },
  "nbformat": 4,
  "nbformat_minor": 0
}